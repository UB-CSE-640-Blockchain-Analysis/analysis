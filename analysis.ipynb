{
 "cells": [
  {
   "cell_type": "markdown",
   "metadata": {},
   "source": [
    "## Importing necessary libraries"
   ]
  },
  {
   "cell_type": "code",
   "execution_count": 1,
   "metadata": {},
   "outputs": [],
   "source": [
    "import pickle\n",
    "from matplotlib import pyplot as plt\n",
    "import numpy as np\n",
    "import networkx as nx"
   ]
  },
  {
   "cell_type": "markdown",
   "metadata": {},
   "source": [
    "## Reading the graph"
   ]
  },
  {
   "cell_type": "code",
   "execution_count": 2,
   "metadata": {},
   "outputs": [],
   "source": [
    "# A function to read graph from a pickle file\n",
    "def read_graph(path):\n",
    "    graph = None\n",
    "    with open(path, 'rb') as file:\n",
    "        graph = pickle.load(file)\n",
    "    return graph"
   ]
  },
  {
   "cell_type": "code",
   "execution_count": 3,
   "metadata": {},
   "outputs": [],
   "source": [
    "graph = read_graph('graph.pickle')"
   ]
  },
  {
   "cell_type": "markdown",
   "metadata": {},
   "source": [
    "# Undirected Graph"
   ]
  },
  {
   "cell_type": "markdown",
   "metadata": {},
   "source": [
    "## Degree Analysis"
   ]
  },
  {
   "cell_type": "code",
   "execution_count": 7,
   "metadata": {},
   "outputs": [
    {
     "name": "stdout",
     "output_type": "stream",
     "text": [
      "Number of Nodes: 116713\n",
      "Number of Edges: 119762\n",
      "Max Degree: 2517\n",
      "Nodes with degree 1: 88571\n",
      "Nodes with degree 2: 16655\n",
      "Nodes with degree 3: 7547\n",
      "Nodes with degree 4: 1141\n",
      "Nodes with degree 5: 584\n",
      "Nodes with degree 6-10: 962\n",
      "Nodes with degree 11-20: 380\n",
      "Nodes with degree 21-30: 154\n",
      "Nodes with degree 31-50: 220\n",
      "Nodes with degree 51-100: 282\n",
      "Nodes with degree 100-500: 212\n",
      "Nodes with degree 501-2517: 5\n"
     ]
    }
   ],
   "source": [
    "undirected_graph = nx.Graph()\n",
    "for sender, receiver, _ in graph.edges.data():\n",
    "    undirected_graph.add_edge(sender, receiver)\n",
    "print(f'Number of Nodes: {undirected_graph.number_of_nodes()}')\n",
    "print(f'Number of Edges: {undirected_graph.number_of_edges()}')\n",
    "\n",
    "degrees = np.array([val for (node, val) in undirected_graph.degree])\n",
    "print(f'Max Degree: {np.max(degrees)}')\n",
    "\n",
    "print(f'Nodes with degree 1: {(degrees == 1).sum()}')\n",
    "print(f'Nodes with degree 2: {(degrees == 2).sum()}')\n",
    "print(f'Nodes with degree 3: {(degrees == 3).sum()}')\n",
    "print(f'Nodes with degree 4: {(degrees == 4).sum()}')\n",
    "print(f'Nodes with degree 5: {(degrees == 5).sum()}')\n",
    "print(f'Nodes with degree 6-10: {np.logical_and(degrees >= 6, degrees <= 10).sum()}')\n",
    "print(f'Nodes with degree 11-20: {np.logical_and(degrees >= 11, degrees <= 20).sum()}')\n",
    "print(f'Nodes with degree 21-30: {np.logical_and(degrees >= 21, degrees <= 30).sum()}')\n",
    "print(f'Nodes with degree 31-50: {np.logical_and(degrees >= 31, degrees <= 50).sum()}')\n",
    "print(f'Nodes with degree 51-100: {np.logical_and(degrees >= 51, degrees <= 100).sum()}')\n",
    "print(f'Nodes with degree 100-500: {np.logical_and(degrees >= 101, degrees <= 500).sum()}')\n",
    "print(f'Nodes with degree 501-2517: {np.logical_and(degrees >= 501, degrees <= 2558).sum()}')"
   ]
  },
  {
   "cell_type": "markdown",
   "metadata": {},
   "source": [
    "## Connected Component Analysis"
   ]
  },
  {
   "cell_type": "code",
   "execution_count": 9,
   "metadata": {},
   "outputs": [
    {
     "name": "stdout",
     "output_type": "stream",
     "text": [
      "Number of connected components: 10313\n",
      "Distribution of size of connected_components\n",
      "Different sizes of connected groups\n",
      "[    2     3     4     5     6     7     8     9    10    11    12    13\n",
      "    14    15    16    17    18    19    20    21    22    23    24    25\n",
      "    26    27    28    29    30    31    33    34    36    38    39    40\n",
      "    41    48    49    52    58    63    72    73    75   177   403   456\n",
      " 81756]\n",
      "Frequency corresponding to each group\n",
      "[3569 4992  504  609  151  163   49   61   22   40   26   13   12   16\n",
      "   15    8    3    9    3    6    1    2    3    2    2    2    1    2\n",
      "    1    2    2    1    2    1    2    2    1    1    2    1    1    1\n",
      "    1    1    1    1    1    1    1]\n"
     ]
    }
   ],
   "source": [
    "connected_components = [Gc for Gc in sorted(nx.connected_components(undirected_graph), key=len, reverse=True)]\n",
    "connected_components_length = np.array([len(x) for x in connected_components])\n",
    "print(f\"Number of connected components: {len(connected_components)}\")\n",
    "print(\"Distribution of size of connected_components\")\n",
    "unique, frequency = np.unique(connected_components_length, return_counts=True)\n",
    "print('Different sizes of connected groups')\n",
    "print(unique)\n",
    "print(\"Frequency corresponding to each group\")\n",
    "print(frequency)"
   ]
  },
  {
   "cell_type": "markdown",
   "metadata": {},
   "source": [
    "# Directed Graph"
   ]
  },
  {
   "cell_type": "markdown",
   "metadata": {},
   "source": [
    "## Degree Analysis"
   ]
  },
  {
   "cell_type": "markdown",
   "metadata": {},
   "source": [
    "### Total Degree Analysis"
   ]
  },
  {
   "cell_type": "code",
   "execution_count": 4,
   "metadata": {},
   "outputs": [
    {
     "name": "stdout",
     "output_type": "stream",
     "text": [
      "Analyzing the graph as a MultiDiGraph (A directed graph which can have multiple edges between two nodes)\n",
      "Number of nodes: 116713\n",
      "Number of Edges: 122506\n",
      "Nodes with degree 1: 87775\n",
      "Nodes with degree 2: 17029\n",
      "Nodes with degree 3: 7668\n",
      "Nodes with degree 4: 1254\n",
      "Nodes with degree 5: 623\n",
      "Nodes with degree 6-10: 1057\n",
      "Nodes with degree 11-20: 415\n",
      "Nodes with degree 21-30: 148\n",
      "Nodes with degree 31-50: 223\n",
      "Nodes with degree 51-100: 300\n",
      "Nodes with degree 100-500: 215\n",
      "Nodes with degree 501-2558: 6\n"
     ]
    }
   ],
   "source": [
    "print('Analyzing the graph as a MultiDiGraph (A directed graph which can have multiple edges between two nodes)')\n",
    "print(f'Number of nodes: {graph.number_of_nodes()}')\n",
    "print(f'Number of Edges: {graph.number_of_edges()}')\n",
    "degrees = np.array([val for (node, val) in graph.degree])\n",
    "print(f'Nodes with degree 1: {(degrees == 1).sum()}')\n",
    "print(f'Nodes with degree 2: {(degrees == 2).sum()}')\n",
    "print(f'Nodes with degree 3: {(degrees == 3).sum()}')\n",
    "print(f'Nodes with degree 4: {(degrees == 4).sum()}')\n",
    "print(f'Nodes with degree 5: {(degrees == 5).sum()}')\n",
    "print(f'Nodes with degree 6-10: {np.logical_and(degrees >= 6, degrees <= 10).sum()}')\n",
    "print(f'Nodes with degree 11-20: {np.logical_and(degrees >= 11, degrees <= 20).sum()}')\n",
    "print(f'Nodes with degree 21-30: {np.logical_and(degrees >= 21, degrees <= 30).sum()}')\n",
    "print(f'Nodes with degree 31-50: {np.logical_and(degrees >= 31, degrees <= 50).sum()}')\n",
    "print(f'Nodes with degree 51-100: {np.logical_and(degrees >= 51, degrees <= 100).sum()}')\n",
    "print(f'Nodes with degree 100-500: {np.logical_and(degrees >= 101, degrees <= 500).sum()}')\n",
    "print(f'Nodes with degree 501-2558: {np.logical_and(degrees >= 501, degrees <= 2558).sum()}')"
   ]
  },
  {
   "cell_type": "markdown",
   "metadata": {},
   "source": [
    "### In-degree Analysis"
   ]
  },
  {
   "cell_type": "code",
   "execution_count": 5,
   "metadata": {},
   "outputs": [
    {
     "name": "stdout",
     "output_type": "stream",
     "text": [
      "Maximum in-degree: 1204\n",
      "Nodes with in-degree 1: 92859\n",
      "Nodes with in-degree 2: 4856\n",
      "Nodes with in-degree 3: 945\n",
      "Nodes with in-degree 4: 376\n",
      "Nodes with in-degree 5: 193\n",
      "Nodes with in-degree 6-10: 2113\n",
      "Nodes with in-degree 11-20: 129\n",
      "Nodes with in-degree 21-30: 38\n",
      "Nodes with in-degree 31-50: 30\n",
      "Nodes with in-degree 51-100: 26\n",
      "Nodes with in-degree 100-500: 27\n",
      "Nodes with in-degree 501-1204: 1\n"
     ]
    }
   ],
   "source": [
    "# In-degree distribution\n",
    "in_degrees = np.array([val for (node, val) in graph.in_degree])\n",
    "print(f'Maximum in-degree: {np.max(in_degrees)}')\n",
    "print(f'Nodes with in-degree 1: {(in_degrees == 1).sum()}')\n",
    "print(f'Nodes with in-degree 2: {(in_degrees == 2).sum()}')\n",
    "print(f'Nodes with in-degree 3: {(in_degrees == 3).sum()}')\n",
    "print(f'Nodes with in-degree 4: {(in_degrees == 4).sum()}')\n",
    "print(f'Nodes with in-degree 5: {(in_degrees == 5).sum()}')\n",
    "print(f'Nodes with in-degree 6-10: {np.logical_and(degrees >= 6, in_degrees <= 10).sum()}')\n",
    "print(f'Nodes with in-degree 11-20: {np.logical_and(in_degrees >= 11, in_degrees <= 20).sum()}')\n",
    "print(f'Nodes with in-degree 21-30: {np.logical_and(in_degrees >= 21, in_degrees <= 30).sum()}')\n",
    "print(f'Nodes with in-degree 31-50: {np.logical_and(in_degrees >= 31, in_degrees <= 50).sum()}')\n",
    "print(f'Nodes with in-degree 51-100: {np.logical_and(in_degrees >= 51, in_degrees <= 100).sum()}')\n",
    "print(f'Nodes with in-degree 100-500: {np.logical_and(in_degrees >= 101, in_degrees <= 500).sum()}')\n",
    "print(f'Nodes with in-degree 501-1204: {np.logical_and(in_degrees >= 501, in_degrees <= 2558).sum()}')"
   ]
  },
  {
   "cell_type": "markdown",
   "metadata": {},
   "source": [
    "### Out-degree Analysis"
   ]
  },
  {
   "cell_type": "code",
   "execution_count": 6,
   "metadata": {},
   "outputs": [
    {
     "name": "stdout",
     "output_type": "stream",
     "text": [
      "Maximum out-degree: 2558\n",
      "Nodes with out-degree 1: 11281\n",
      "Nodes with out-degree 2: 15854\n",
      "Nodes with out-degree 3: 873\n",
      "Nodes with out-degree 4: 516\n",
      "Nodes with out-degree 5: 273\n",
      "Nodes with out-degree 6-10: 1377\n",
      "Nodes with out-degree 11-20: 224\n",
      "Nodes with out-degree 21-30: 112\n",
      "Nodes with out-degree 31-50: 197\n",
      "Nodes with out-degree 51-100: 261\n",
      "Nodes with out-degree 100-500: 188\n",
      "Nodes with out-degree 501-2558: 5\n"
     ]
    }
   ],
   "source": [
    "# Out-degree distribution\n",
    "out_degrees = np.array([val for (node, val) in graph.out_degree])\n",
    "print(f'Maximum out-degree: {np.max(out_degrees)}')\n",
    "print(f'Nodes with out-degree 1: {(out_degrees == 1).sum()}')\n",
    "print(f'Nodes with out-degree 2: {(out_degrees == 2).sum()}')\n",
    "print(f'Nodes with out-degree 3: {(out_degrees == 3).sum()}')\n",
    "print(f'Nodes with out-degree 4: {(out_degrees == 4).sum()}')\n",
    "print(f'Nodes with out-degree 5: {(out_degrees == 5).sum()}')\n",
    "print(f'Nodes with out-degree 6-10: {np.logical_and(degrees >= 6, out_degrees <= 10).sum()}')\n",
    "print(f'Nodes with out-degree 11-20: {np.logical_and(out_degrees >= 11, out_degrees <= 20).sum()}')\n",
    "print(f'Nodes with out-degree 21-30: {np.logical_and(out_degrees >= 21, out_degrees <= 30).sum()}')\n",
    "print(f'Nodes with out-degree 31-50: {np.logical_and(out_degrees >= 31, out_degrees <= 50).sum()}')\n",
    "print(f'Nodes with out-degree 51-100: {np.logical_and(out_degrees >= 51, out_degrees <= 100).sum()}')\n",
    "print(f'Nodes with out-degree 100-500: {np.logical_and(out_degrees >= 101, out_degrees <= 500).sum()}')\n",
    "print(f'Nodes with out-degree 501-2558: {np.logical_and(out_degrees >= 501, out_degrees <= 2558).sum()}')"
   ]
  },
  {
   "cell_type": "markdown",
   "metadata": {},
   "source": [
    "### Making histograms"
   ]
  },
  {
   "cell_type": "code",
   "execution_count": 14,
   "metadata": {},
   "outputs": [
    {
     "data": {
      "image/png": "[encoded data removed]",
      "text/plain": [
       "<Figure size 432x288 with 3 Axes>"
      ]
     },
     "metadata": {
      "needs_background": "light"
     },
     "output_type": "display_data"
    }
   ],
   "source": [
    "degrees = np.array([val for (node, val) in graph.degree])\n",
    "in_degrees = np.array([val for (node, val) in graph.in_degree])\n",
    "out_degrees = np.array([val for (node, val) in graph.out_degree])\n",
    "fig, axs = plt.subplots(1, 3, sharey=True, tight_layout=True)\n",
    "axs[0].hist(degrees, bins=100)\n",
    "axs[1].hist(in_degrees, bins=100)\n",
    "axs[2].hist(out_degrees, bins=50)\n",
    "axs[0].title.set_text('Degree')\n",
    "axs[1].title.set_text('In-degree')\n",
    "axs[2].title.set_text('Out-degree')\n",
    "plt.show()"
   ]
  },
  {
   "cell_type": "markdown",
   "metadata": {},
   "source": [
    "## Strongly Connected Components Analysis"
   ]
  },
  {
   "cell_type": "code",
   "execution_count": 6,
   "metadata": {},
   "outputs": [
    {
     "name": "stdout",
     "output_type": "stream",
     "text": [
      "Number of strongly connected components: 116079\n",
      "\n",
      "Distribution of size of connected_components\n",
      "Different sizes of connected groups: [  1   2   3   4   5   6   8   9 503]\n",
      "Frequency corresponsing to each group: [116009     44     10      6      3      3      1      2      1]\n"
     ]
    }
   ],
   "source": [
    "print(f'Number of strongly connected components: {nx.number_strongly_connected_components(graph)}', end='\\n\\n')\n",
    "max_connected_component = max(nx.strongly_connected_components(graph), key=len)\n",
    "connected_components = [Gc for Gc in sorted(nx.strongly_connected_components(graph), key=len, reverse=True)]\n",
    "connected_components_length = np.array([len(x) for x in connected_components])\n",
    "print(\"Distribution of size of connected_components\")\n",
    "unique, frequency = np.unique(connected_components_length, return_counts=True)\n",
    "print(\"Different sizes of connected groups:\", unique)\n",
    "print(\"Frequency corresponsing to each group:\", frequency)"
   ]
  },
  {
   "cell_type": "markdown",
   "metadata": {},
   "source": [
    "## Temporal Analysis"
   ]
  },
  {
   "cell_type": "code",
   "execution_count": 10,
   "metadata": {},
   "outputs": [
    {
     "name": "stdout",
     "output_type": "stream",
     "text": [
      "Mean value of all timestamps: 1649859324.9904575\n",
      "Average intertransaction time over all transactions: 0.7896738908615974\n",
      "Number of nodes with more than 1 edge: 28938\n",
      "Average value of average intertransaction time of each node: 6405.973159379302\n"
     ]
    },
    {
     "data": {
      "image/png": "[encoded data removed]",
      "text/plain": [
       "<Figure size 432x288 with 1 Axes>"
      ]
     },
     "metadata": {
      "needs_background": "light"
     },
     "output_type": "display_data"
    }
   ],
   "source": [
    "def degree_func(item):\n",
    "    node, val = item\n",
    "    return val>1\n",
    "\n",
    "timestamps = np.array([int(ts) for i, j, ts in graph.edges.data('timestamp')])\n",
    "\n",
    "timestamps = np.sort(timestamps)\n",
    "print(f'Mean value of all timestamps: {np.mean(timestamps)}')\n",
    "\n",
    "timestamps_diff = np.diff(timestamps)\n",
    "print(f'Average intertransaction time over all transactions: {np.mean(timestamps_diff)}')\n",
    "\n",
    "degrees = np.array([node for (node, val) in filter(degree_func, graph.degree)])\n",
    "\n",
    "total_avg_intertransaction_time = np.array([])\n",
    "for node in degrees:\n",
    "    edges = [*graph.in_edges(node, data='timestamp'), *graph.out_edges(node, data='timestamp')]\n",
    "    timestamps = np.array([int(timestamp) for sender, receiver, timestamp in edges])\n",
    "    timestamps = np.sort(timestamps)\n",
    "    timestamps = np.diff(timestamps)\n",
    "    total_avg_intertransaction_time = np.append(total_avg_intertransaction_time, np.mean(timestamps))\n",
    "\n",
    "print(\"Number of nodes with more than 1 edge:\", len(total_avg_intertransaction_time))\n",
    "print(\"Average value of average intertransaction time of each node:\", np.mean(total_avg_intertransaction_time))\n",
    "plt.hist(total_avg_intertransaction_time, bins=10)\n",
    "plt.title('Distribution of average intertransaction time of nodes')\n",
    "plt.xlabel('Time in epochs')\n",
    "plt.ylabel('Number of nodes')\n",
    "plt.show()\n",
    "\n",
    "\n"
   ]
  },
  {
   "cell_type": "code",
   "execution_count": null,
   "metadata": {},
   "outputs": [],
   "source": []
  }
 ],
 "metadata": {
  "interpreter": {
   "hash": "9003e54178b1e786238d9905cb51321c15b540d61f3aa8d1ae439be4db7fc088"
  },
  "kernelspec": {
   "display_name": "Python 3.8.5 ('venv': venv)",
   "language": "python",
   "name": "python3"
  },
  "language_info": {
   "codemirror_mode": {
    "name": "ipython",
    "version": 3
   },
   "file_extension": ".py",
   "mimetype": "text/x-python",
   "name": "python",
   "nbconvert_exporter": "python",
   "pygments_lexer": "ipython3",
   "version": "3.8.5"
  },
  "orig_nbformat": 4
 },
 "nbformat": 4,
 "nbformat_minor": 2
}
