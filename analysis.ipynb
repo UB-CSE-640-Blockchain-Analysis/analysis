{
 "cells": [
  {
   "cell_type": "markdown",
   "metadata": {},
   "source": [
    "## Importing necessary libraries"
   ]
  },
  {
   "cell_type": "code",
   "execution_count": 1,
   "metadata": {},
   "outputs": [],
   "source": [
    "import pickle\n",
    "from matplotlib import pyplot as plt\n",
    "import numpy as np\n",
    "import networkx as nx"
   ]
  },
  {
   "cell_type": "markdown",
   "metadata": {},
   "source": [
    "## Reading the graph"
   ]
  },
  {
   "cell_type": "code",
   "execution_count": 2,
   "metadata": {},
   "outputs": [],
   "source": [
    "# A function to read graph from a pickle file\n",
    "def read_graph(path):\n",
    "    graph = None\n",
    "    with open(path, 'rb') as file:\n",
    "        graph = pickle.load(file)\n",
    "    return graph"
   ]
  },
  {
   "cell_type": "code",
   "execution_count": 3,
   "metadata": {},
   "outputs": [],
   "source": [
    "graph = read_graph('graph.pickle')"
   ]
  },
  {
   "cell_type": "markdown",
   "metadata": {},
   "source": [
    "# Undirected Graph"
   ]
  },
  {
   "cell_type": "markdown",
   "metadata": {},
   "source": [
    "## Degree Analysis"
   ]
  },
  {
   "cell_type": "code",
   "execution_count": 20,
   "metadata": {},
   "outputs": [
    {
     "name": "stdout",
     "output_type": "stream",
     "text": [
      "Number of Nodes: 934717\n",
      "Number of Edges: 1007915\n",
      "Max Degree: 10786\n",
      "Nodes with degree 0: 0\n",
      "Nodes with degree 1: 673558\n",
      "Nodes with degree 2: 150765\n",
      "Nodes with degree 3: 70471\n",
      "Nodes with degree 4: 12582\n",
      "Nodes with degree 5: 6176\n",
      "Nodes with degree 6-10: 10794\n",
      "Nodes with degree 11-20: 3797\n",
      "Nodes with degree 21-30: 1305\n",
      "Nodes with degree 31-50: 1415\n",
      "Nodes with degree 51-100: 2115\n",
      "Nodes with degree 100-500: 1672\n",
      "Nodes with degree 501-10786: 67\n"
     ]
    },
    {
     "data": {
      "image/png": "[encoded data removed]",
      "text/plain": [
       "<Figure size 432x288 with 1 Axes>"
      ]
     },
     "metadata": {
      "needs_background": "light"
     },
     "output_type": "display_data"
    }
   ],
   "source": [
    "undirected_graph = nx.Graph()\n",
    "for sender, receiver, _ in graph.edges.data():\n",
    "    undirected_graph.add_edge(sender, receiver)\n",
    "print(f'Number of Nodes: {undirected_graph.number_of_nodes()}')\n",
    "print(f'Number of Edges: {undirected_graph.number_of_edges()}')\n",
    "\n",
    "degrees = np.array([val for (node, val) in undirected_graph.degree])\n",
    "max_degree = np.max(degrees)\n",
    "print(f'Max Degree: {max_degree}')\n",
    "\n",
    "print(f'Nodes with degree 0: {(degrees == 0).sum()}')\n",
    "print(f'Nodes with degree 1: {(degrees == 1).sum()}')\n",
    "print(f'Nodes with degree 2: {(degrees == 2).sum()}')\n",
    "print(f'Nodes with degree 3: {(degrees == 3).sum()}')\n",
    "print(f'Nodes with degree 4: {(degrees == 4).sum()}')\n",
    "print(f'Nodes with degree 5: {(degrees == 5).sum()}')\n",
    "print(f'Nodes with degree 6-10: {np.logical_and(degrees >= 6, degrees <= 10).sum()}')\n",
    "print(f'Nodes with degree 11-20: {np.logical_and(degrees >= 11, degrees <= 20).sum()}')\n",
    "print(f'Nodes with degree 21-30: {np.logical_and(degrees >= 21, degrees <= 30).sum()}')\n",
    "print(f'Nodes with degree 31-50: {np.logical_and(degrees >= 31, degrees <= 50).sum()}')\n",
    "print(f'Nodes with degree 51-100: {np.logical_and(degrees >= 51, degrees <= 100).sum()}')\n",
    "print(f'Nodes with degree 100-500: {np.logical_and(degrees >= 101, degrees <= 500).sum()}')\n",
    "print(f'Nodes with degree 501-{max_degree}: {np.logical_and(degrees >= 501, degrees <= max_degree).sum()}')\n",
    "plt.hist(degrees, bins=10, log=True, edgecolor='black')\n",
    "plt.xlabel('Degrees')\n",
    "plt.ylabel('Number of nodes on log scale')\n",
    "plt.show()"
   ]
  },
  {
   "cell_type": "markdown",
   "metadata": {},
   "source": [
    "## Connected Component Analysis"
   ]
  },
  {
   "cell_type": "code",
   "execution_count": 21,
   "metadata": {},
   "outputs": [
    {
     "name": "stdout",
     "output_type": "stream",
     "text": [
      "Number of connected components: 90356\n",
      "Distribution of size of connected_components\n",
      "Different sizes of connected groups\n",
      "[     2      3      4      5      6      7      8      9     10     11\n",
      "     12     13     14     15     16     17     18     19     20     21\n",
      "     22     23     24     25     26     27     28     29     30     31\n",
      "     32     33     34     35     37     39     40     42     43     44\n",
      "     45     48     49     50     51     54     55     61     65     66\n",
      "     69     72     73     78     83     95    101    105    108    122\n",
      "    128    141    147    151    156    202    281    439   1025 644947]\n",
      "Frequency corresponding to each group\n",
      "[29945 45556  4038  5937  1212  1540   401   562   198   253   129   130\n",
      "    62    55    49    34    21    32    22    21    11     5     5    10\n",
      "     6     6     6     8     4    28     7     4     4     3     4     3\n",
      "     2     3     4     3     1     1     1     2     1     2     1     1\n",
      "     1     1     1     1     1     1     1     1     1     2     1     1\n",
      "     1     1     1     1     1     1     1     1     1     1]\n"
     ]
    },
    {
     "data": {
      "image/png": "[encoded data removed]",
      "text/plain": [
       "<Figure size 432x288 with 1 Axes>"
      ]
     },
     "metadata": {
      "needs_background": "light"
     },
     "output_type": "display_data"
    }
   ],
   "source": [
    "connected_components = [Gc for Gc in sorted(nx.connected_components(undirected_graph), key=len, reverse=True)]\n",
    "connected_components_length = np.array([len(x) for x in connected_components])\n",
    "print(f\"Number of connected components: {len(connected_components)}\")\n",
    "print(\"Distribution of size of connected_components\")\n",
    "unique, frequency = np.unique(connected_components_length, return_counts=True)\n",
    "print('Different sizes of connected groups')\n",
    "print(unique)\n",
    "print(\"Frequency corresponding to each group\")\n",
    "print(frequency)\n",
    "plt.hist(connected_components_length, bins=4, log=True, edgecolor='black')\n",
    "plt.xlabel('Size of connected component')\n",
    "plt.ylabel('Frequency on log scale')\n",
    "plt.show()"
   ]
  },
  {
   "cell_type": "markdown",
   "metadata": {},
   "source": [
    "# Directed Graph"
   ]
  },
  {
   "cell_type": "markdown",
   "metadata": {},
   "source": [
    "## Degree Analysis"
   ]
  },
  {
   "cell_type": "markdown",
   "metadata": {},
   "source": [
    "### Total Degree Analysis"
   ]
  },
  {
   "cell_type": "code",
   "execution_count": 6,
   "metadata": {},
   "outputs": [
    {
     "name": "stdout",
     "output_type": "stream",
     "text": [
      "Analyzing the graph as a MultiDiGraph (A directed graph which can have multiple edges between two nodes)\n",
      "Number of nodes: 934717\n",
      "Number of Edges: 1040821\n",
      "Maximum Degree: 13008\n",
      "Nodes with degree 1: 665860\n",
      "Nodes with degree 2: 153562\n",
      "Nodes with degree 3: 71567\n",
      "Nodes with degree 4: 13601\n",
      "Nodes with degree 5: 7109\n",
      "Nodes with degree 6-10: 12090\n",
      "Nodes with degree 11-20: 4092\n",
      "Nodes with degree 21-30: 1403\n",
      "Nodes with degree 31-50: 1467\n",
      "Nodes with degree 51-100: 2175\n",
      "Nodes with degree 100-500: 1712\n",
      "Nodes with degree 501-13008: 79\n"
     ]
    }
   ],
   "source": [
    "print('Analyzing the graph as a MultiDiGraph (A directed graph which can have multiple edges between two nodes)')\n",
    "print(f'Number of nodes: {graph.number_of_nodes()}')\n",
    "print(f'Number of Edges: {graph.number_of_edges()}')\n",
    "degrees = np.array([val for (node, val) in graph.degree])\n",
    "max_degree = np.max(degrees)\n",
    "print(f'Maximum Degree: {max_degree}')\n",
    "print(f'Nodes with degree 1: {(degrees == 1).sum()}')\n",
    "print(f'Nodes with degree 2: {(degrees == 2).sum()}')\n",
    "print(f'Nodes with degree 3: {(degrees == 3).sum()}')\n",
    "print(f'Nodes with degree 4: {(degrees == 4).sum()}')\n",
    "print(f'Nodes with degree 5: {(degrees == 5).sum()}')\n",
    "print(f'Nodes with degree 6-10: {np.logical_and(degrees >= 6, degrees <= 10).sum()}')\n",
    "print(f'Nodes with degree 11-20: {np.logical_and(degrees >= 11, degrees <= 20).sum()}')\n",
    "print(f'Nodes with degree 21-30: {np.logical_and(degrees >= 21, degrees <= 30).sum()}')\n",
    "print(f'Nodes with degree 31-50: {np.logical_and(degrees >= 31, degrees <= 50).sum()}')\n",
    "print(f'Nodes with degree 51-100: {np.logical_and(degrees >= 51, degrees <= 100).sum()}')\n",
    "print(f'Nodes with degree 100-500: {np.logical_and(degrees >= 101, degrees <= 500).sum()}')\n",
    "print(f'Nodes with degree 501-{max_degree}: {np.logical_and(degrees >= 501, degrees <= max_degree).sum()}')"
   ]
  },
  {
   "cell_type": "markdown",
   "metadata": {},
   "source": [
    "### In-degree Analysis"
   ]
  },
  {
   "cell_type": "code",
   "execution_count": 11,
   "metadata": {},
   "outputs": [
    {
     "name": "stdout",
     "output_type": "stream",
     "text": [
      "Maximum in-degree: 8278\n",
      "Nodes with in-degree 0: 157379\n",
      "Nodes with in-degree 1: 711348\n",
      "Nodes with in-degree 2: 39065\n",
      "Nodes with in-degree 3: 11230\n",
      "Nodes with in-degree 4: 4910\n",
      "Nodes with in-degree 5: 3146\n",
      "Nodes with in-degree 6-10: 19792\n",
      "Nodes with in-degree 11-20: 1666\n",
      "Nodes with in-degree 21-30: 519\n",
      "Nodes with in-degree 31-50: 409\n",
      "Nodes with in-degree 51-100: 362\n",
      "Nodes with in-degree 100-500: 251\n",
      "Nodes with in-degree 501-8278: 19\n"
     ]
    }
   ],
   "source": [
    "# In-degree distribution\n",
    "in_degrees = np.array([val for (node, val) in graph.in_degree])\n",
    "max_in_degree = np.max(in_degrees)\n",
    "print(f'Maximum in-degree: {np.max(in_degrees)}')\n",
    "print(f'Nodes with in-degree 0: {(in_degrees == 0).sum()}')\n",
    "print(f'Nodes with in-degree 1: {(in_degrees == 1).sum()}')\n",
    "print(f'Nodes with in-degree 2: {(in_degrees == 2).sum()}')\n",
    "print(f'Nodes with in-degree 3: {(in_degrees == 3).sum()}')\n",
    "print(f'Nodes with in-degree 4: {(in_degrees == 4).sum()}')\n",
    "print(f'Nodes with in-degree 5: {(in_degrees == 5).sum()}')\n",
    "print(f'Nodes with in-degree 6-10: {np.logical_and(degrees >= 6, in_degrees <= 10).sum()}')\n",
    "print(f'Nodes with in-degree 11-20: {np.logical_and(in_degrees >= 11, in_degrees <= 20).sum()}')\n",
    "print(f'Nodes with in-degree 21-30: {np.logical_and(in_degrees >= 21, in_degrees <= 30).sum()}')\n",
    "print(f'Nodes with in-degree 31-50: {np.logical_and(in_degrees >= 31, in_degrees <= 50).sum()}')\n",
    "print(f'Nodes with in-degree 51-100: {np.logical_and(in_degrees >= 51, in_degrees <= 100).sum()}')\n",
    "print(f'Nodes with in-degree 100-500: {np.logical_and(in_degrees >= 101, in_degrees <= 500).sum()}')\n",
    "print(f'Nodes with in-degree 501-{max_in_degree}: {np.logical_and(in_degrees >= 501, in_degrees <= max_in_degree).sum()}')"
   ]
  },
  {
   "cell_type": "markdown",
   "metadata": {},
   "source": [
    "### Out-degree Analysis"
   ]
  },
  {
   "cell_type": "code",
   "execution_count": 12,
   "metadata": {},
   "outputs": [
    {
     "name": "stdout",
     "output_type": "stream",
     "text": [
      "Maximum out-degree: 12111\n",
      "Nodes with out-degree 0: 660357\n",
      "Nodes with out-degree 1: 85281\n",
      "Nodes with out-degree 2: 161098\n",
      "Nodes with out-degree 3: 7999\n",
      "Nodes with out-degree 4: 5610\n",
      "Nodes with out-degree 5: 2954\n",
      "Nodes with out-degree 6-10: 16141\n",
      "Nodes with out-degree 11-20: 1840\n",
      "Nodes with out-degree 21-30: 780\n",
      "Nodes with out-degree 31-50: 1006\n",
      "Nodes with out-degree 51-100: 1757\n",
      "Nodes with out-degree 100-500: 1440\n",
      "Nodes with out-degree 501-12111: 54\n"
     ]
    }
   ],
   "source": [
    "# Out-degree distribution\n",
    "out_degrees = np.array([val for (node, val) in graph.out_degree])\n",
    "max_out_degree = np.max(out_degrees)\n",
    "print(f'Maximum out-degree: {np.max(out_degrees)}')\n",
    "print(f'Nodes with out-degree 0: {(out_degrees == 0).sum()}')\n",
    "print(f'Nodes with out-degree 1: {(out_degrees == 1).sum()}')\n",
    "print(f'Nodes with out-degree 2: {(out_degrees == 2).sum()}')\n",
    "print(f'Nodes with out-degree 3: {(out_degrees == 3).sum()}')\n",
    "print(f'Nodes with out-degree 4: {(out_degrees == 4).sum()}')\n",
    "print(f'Nodes with out-degree 5: {(out_degrees == 5).sum()}')\n",
    "print(f'Nodes with out-degree 6-10: {np.logical_and(degrees >= 6, out_degrees <= 10).sum()}')\n",
    "print(f'Nodes with out-degree 11-20: {np.logical_and(out_degrees >= 11, out_degrees <= 20).sum()}')\n",
    "print(f'Nodes with out-degree 21-30: {np.logical_and(out_degrees >= 21, out_degrees <= 30).sum()}')\n",
    "print(f'Nodes with out-degree 31-50: {np.logical_and(out_degrees >= 31, out_degrees <= 50).sum()}')\n",
    "print(f'Nodes with out-degree 51-100: {np.logical_and(out_degrees >= 51, out_degrees <= 100).sum()}')\n",
    "print(f'Nodes with out-degree 100-500: {np.logical_and(out_degrees >= 101, out_degrees <= 500).sum()}')\n",
    "print(f'Nodes with out-degree 501-{max_out_degree}: {np.logical_and(out_degrees >= 501, out_degrees <= max_out_degree).sum()}')"
   ]
  },
  {
   "cell_type": "markdown",
   "metadata": {},
   "source": [
    "### Making histograms"
   ]
  },
  {
   "cell_type": "code",
   "execution_count": 24,
   "metadata": {},
   "outputs": [
    {
     "data": {
      "image/png": "[encoded data removed]",
      "text/plain": [
       "<Figure size 432x288 with 3 Axes>"
      ]
     },
     "metadata": {
      "needs_background": "light"
     },
     "output_type": "display_data"
    }
   ],
   "source": [
    "degrees = np.array([val for (node, val) in graph.degree])\n",
    "in_degrees = np.array([val for (node, val) in graph.in_degree])\n",
    "out_degrees = np.array([val for (node, val) in graph.out_degree])\n",
    "fig, axs = plt.subplots(1, 3, sharey=True, tight_layout=True)\n",
    "axs[0].hist(degrees, bins=10, log=True, edgecolor='black')\n",
    "axs[1].hist(in_degrees, bins=10, log=True, edgecolor='black')\n",
    "axs[2].hist(out_degrees, bins=10, log=True, edgecolor='black')\n",
    "axs[0].title.set_text('Degree')\n",
    "axs[0].set_ylabel('Number of nodes on log scale')\n",
    "axs[1].title.set_text('In-degree')\n",
    "axs[2].title.set_text('Out-degree')\n",
    "plt.show()"
   ]
  },
  {
   "cell_type": "markdown",
   "metadata": {},
   "source": [
    "## Strongly Connected Components Analysis"
   ]
  },
  {
   "cell_type": "code",
   "execution_count": 23,
   "metadata": {},
   "outputs": [
    {
     "name": "stdout",
     "output_type": "stream",
     "text": [
      "Number of strongly connected components: 924869\n",
      "\n",
      "Distribution of size of connected_components\n",
      "Different sizes of connected groups: [   1    2    3    4    5    6    7    8    9   10   11   12   17   27\n",
      " 9228]\n",
      "Frequency corresponding to each group: [924526    237     52     19     13      9      1      3      1      2\n",
      "      2      1      1      1      1]\n"
     ]
    },
    {
     "data": {
      "image/png": "[encoded data removed]",
      "text/plain": [
       "<Figure size 432x288 with 1 Axes>"
      ]
     },
     "metadata": {
      "needs_background": "light"
     },
     "output_type": "display_data"
    }
   ],
   "source": [
    "print(f'Number of strongly connected components: {nx.number_strongly_connected_components(graph)}', end='\\n\\n')\n",
    "max_connected_component = max(nx.strongly_connected_components(graph), key=len)\n",
    "connected_components = [Gc for Gc in sorted(nx.strongly_connected_components(graph), key=len, reverse=True)]\n",
    "connected_components_length = np.array([len(x) for x in connected_components])\n",
    "print(\"Distribution of size of connected_components\")\n",
    "unique, frequency = np.unique(connected_components_length, return_counts=True)\n",
    "print(\"Different sizes of connected groups:\", unique)\n",
    "print(\"Frequency corresponding to each group:\", frequency)\n",
    "plt.hist(connected_components_length, bins=5, log=True, edgecolor='black')\n",
    "plt.xlabel('Size of connected components')\n",
    "plt.ylabel('Frequency on log scale')\n",
    "plt.show()"
   ]
  },
  {
   "cell_type": "markdown",
   "metadata": {},
   "source": [
    "## Temporal Analysis"
   ]
  },
  {
   "cell_type": "code",
   "execution_count": 18,
   "metadata": {},
   "outputs": [
    {
     "name": "stdout",
     "output_type": "stream",
     "text": [
      "Mean value of all timestamps: 1650894866.0892556\n",
      "Average inter-transaction time over all transactions: 1.7685680521127571\n",
      "Number of nodes with more than 1 edge: 268857\n",
      "Average value of average inter-transaction time of each node: 73551.77035524932\n"
     ]
    },
    {
     "data": {
      "image/png": "[encoded data removed]",
      "text/plain": [
       "<Figure size 432x288 with 1 Axes>"
      ]
     },
     "metadata": {
      "needs_background": "light"
     },
     "output_type": "display_data"
    }
   ],
   "source": [
    "def degree_func(item):\n",
    "    node, val = item\n",
    "    return val>1\n",
    "\n",
    "timestamps = np.array([int(ts) for i, j, ts in graph.edges.data('timestamp')])\n",
    "\n",
    "timestamps = np.sort(timestamps)\n",
    "print(f'Mean value of all timestamps: {np.mean(timestamps)}')\n",
    "\n",
    "timestamps_diff = np.diff(timestamps)\n",
    "print(f'Average inter-transaction time over all transactions: {np.mean(timestamps_diff)}')\n",
    "\n",
    "degrees = np.array([node for (node, val) in filter(degree_func, graph.degree)])\n",
    "\n",
    "total_avg_intertransaction_time = np.array([])\n",
    "for node in degrees:\n",
    "    edges = [*graph.in_edges(node, data='timestamp'), *graph.out_edges(node, data='timestamp')]\n",
    "    timestamps = np.array([int(timestamp) for sender, receiver, timestamp in edges])\n",
    "    timestamps = np.sort(timestamps)\n",
    "    timestamps = np.diff(timestamps)\n",
    "    total_avg_intertransaction_time = np.append(total_avg_intertransaction_time, np.mean(timestamps))\n",
    "\n",
    "print(\"Number of nodes with more than 1 edge:\", len(total_avg_intertransaction_time))\n",
    "print(\"Average value of average inter-transaction time of each node:\", np.mean(total_avg_intertransaction_time))\n",
    "plt.hist(total_avg_intertransaction_time, bins=10, log=True, edgecolor='black')\n",
    "plt.title('Distribution of average inter-transaction time of nodes')\n",
    "plt.xlabel('Time in epochs')\n",
    "plt.ylabel('Number of nodes in log scale')\n",
    "plt.show()\n",
    "\n",
    "\n"
   ]
  },
  {
   "cell_type": "code",
   "execution_count": null,
   "metadata": {},
   "outputs": [],
   "source": []
  }
 ],
 "metadata": {
  "interpreter": {
   "hash": "84c5689519bd0c0004b9dd24a16d08e7b33d4d57716af5c7394f10201657364b"
  },
  "kernelspec": {
   "display_name": "Python 3.8.5 ('venv': venv)",
   "language": "python",
   "name": "python3"
  },
  "language_info": {
   "codemirror_mode": {
    "name": "ipython",
    "version": 3
   },
   "file_extension": ".py",
   "mimetype": "text/x-python",
   "name": "python",
   "nbconvert_exporter": "python",
   "pygments_lexer": "ipython3",
   "version": "3.8.5"
  },
  "orig_nbformat": 4
 },
 "nbformat": 4,
 "nbformat_minor": 2
}
